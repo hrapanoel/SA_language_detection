{
 "cells": [
  {
   "cell_type": "markdown",
   "metadata": {},
   "source": [
    "We will build a language detection for the 11 South African languages using a naive Bayes classifier on character n-grams. The training and testing data was downloaded from https://github.com/praekelt/feersum-lid-shared-task/tree/master/lid_task_2017a"
   ]
  },
  {
   "cell_type": "code",
   "execution_count": 1,
   "metadata": {},
   "outputs": [],
   "source": [
    "import sys\n",
    "from sklearn.feature_extraction.text import TfidfVectorizer\n",
    "from sklearn.linear_model import Perceptron\n",
    "from sklearn.pipeline import Pipeline\n",
    "from sklearn.datasets import load_files\n",
    "from sklearn.model_selection import train_test_split\n",
    "from sklearn import metrics\n",
    "from sklearn.naive_bayes import MultinomialNB\n",
    "import re\n",
    "import numpy as np\n",
    "import pandas as pd"
   ]
  },
  {
   "cell_type": "code",
   "execution_count": 2,
   "metadata": {},
   "outputs": [],
   "source": [
    "language_code = {'afr':1, 'nbl':2, 'nso':3, 'sot':4, 'ssw':5, 'tso':6, 'tsn':7, 'ven': 8, 'xho':9,\n",
    "'zul':10, 'eng':11}\n",
    "code = dict((v,k) for k,v in language_code.items())"
   ]
  },
  {
   "cell_type": "markdown",
   "metadata": {},
   "source": [
    "Read in the train and test data and map language code to integer"
   ]
  },
  {
   "cell_type": "code",
   "execution_count": 3,
   "metadata": {},
   "outputs": [],
   "source": [
    "train_data = pd.read_csv(\"./data/train_full_3k.csv\")\n",
    "train_data[\"lang_id\"] = train_data[\"lang_id\"].map(language_code).astype(int)\n",
    "test_data = pd.read_csv(\"./data/test_full_1k.csv\")\n",
    "test_data[\"lang_id\"] = test_data[\"lang_id\"].map(language_code).astype(int)"
   ]
  },
  {
   "cell_type": "markdown",
   "metadata": {},
   "source": [
    "Do some text preprocessing"
   ]
  },
  {
   "cell_type": "code",
   "execution_count": 4,
   "metadata": {},
   "outputs": [],
   "source": [
    "# regex to replace all numerics\n",
    "replace_numbers=re.compile(r'\\d+',re.IGNORECASE)\n",
    "\n",
    "def clean_text(input_text):\n",
    "    text = input_text.lower()\n",
    "    text = replace_numbers.sub('', text)\n",
    "\n",
    "    text = text.replace('ã…â¡', 'š')\n",
    "    text = text.replace('ï¿½', '')\n",
    "    text = text.replace('ª', '')\n",
    "\n",
    "    text = text.rstrip('\"')\n",
    "    text = text.lstrip(' \"')\n",
    "\n",
    "    # All special characters are kept.\n",
    "    return text"
   ]
  },
  {
   "cell_type": "code",
   "execution_count": 5,
   "metadata": {},
   "outputs": [],
   "source": [
    "docs_train, docs_test = train_data[\" text\"], test_data[\" text\"]\n",
    "y_train, y_test = train_data[\"lang_id\"], test_data[\"lang_id\"]"
   ]
  },
  {
   "cell_type": "code",
   "execution_count": 6,
   "metadata": {},
   "outputs": [],
   "source": [
    "docs_train = [clean_text(text) for text in docs_train]\n",
    "docs_test = [clean_text(text) for text in docs_test]"
   ]
  },
  {
   "cell_type": "markdown",
   "metadata": {},
   "source": [
    "Use Tfidf terms on all characters ngrams from 1 to 6 as input to the MultinomialNB classifier"
   ]
  },
  {
   "cell_type": "code",
   "execution_count": 7,
   "metadata": {},
   "outputs": [
    {
     "data": {
      "text/plain": [
       "Pipeline(memory=None,\n",
       "     steps=[('vectorizer', TfidfVectorizer(analyzer='char', binary=False, decode_error='strict',\n",
       "        dtype=<class 'numpy.int64'>, encoding='utf-8', input='content',\n",
       "        lowercase=True, max_df=1.0, max_features=None, min_df=1,\n",
       "        ngram_range=(1, 6), norm='l2', preprocessor=None, smooth_idf=Tr...rue,\n",
       "        vocabulary=None)), ('clf', MultinomialNB(alpha=1.0, class_prior=None, fit_prior=True))])"
      ]
     },
     "execution_count": 7,
     "metadata": {},
     "output_type": "execute_result"
    }
   ],
   "source": [
    "vectorizer = TfidfVectorizer(ngram_range=(1, 6),\n",
    "                             analyzer='char',)\n",
    "\n",
    "pipe = Pipeline([\n",
    "    ('vectorizer', vectorizer),\n",
    "    ('clf', MultinomialNB())\n",
    "])\n",
    "\n",
    "pipe.fit(docs_train, y_train)"
   ]
  },
  {
   "cell_type": "code",
   "execution_count": 13,
   "metadata": {},
   "outputs": [
    {
     "data": {
      "text/plain": [
       "['../language_detect.joblib']"
      ]
     },
     "execution_count": 13,
     "metadata": {},
     "output_type": "execute_result"
    }
   ],
   "source": [
    "#save model for later use\n",
    "# from sklearn.externals import joblib\n",
    "# joblib.dump(pipe, '../language_detect.joblib') "
   ]
  },
  {
   "cell_type": "code",
   "execution_count": 14,
   "metadata": {},
   "outputs": [],
   "source": [
    "y_predicted = pipe.predict(docs_test)"
   ]
  },
  {
   "cell_type": "code",
   "execution_count": 8,
   "metadata": {},
   "outputs": [
    {
     "data": {
      "text/plain": [
       "0.9990909090909091"
      ]
     },
     "execution_count": 8,
     "metadata": {},
     "output_type": "execute_result"
    }
   ],
   "source": [
    "#accuracy\n",
    "pipe.score(docs_test, y_test)"
   ]
  },
  {
   "cell_type": "markdown",
   "metadata": {},
   "source": [
    "## Classification report"
   ]
  },
  {
   "cell_type": "code",
   "execution_count": 135,
   "metadata": {},
   "outputs": [
    {
     "name": "stdout",
     "output_type": "stream",
     "text": [
      "             precision    recall  f1-score   support\n",
      "\n",
      "        afr    1.00000   1.00000   1.00000      1000\n",
      "        nbl    0.99900   0.99700   0.99800      1000\n",
      "        nso    1.00000   1.00000   1.00000      1000\n",
      "        sot    1.00000   1.00000   1.00000      1000\n",
      "        ssw    1.00000   0.99800   0.99900      1000\n",
      "        tso    1.00000   0.99900   0.99950      1000\n",
      "        tsn    1.00000   1.00000   1.00000      1000\n",
      "        ven    1.00000   1.00000   1.00000      1000\n",
      "        xho    1.00000   0.99700   0.99850      1000\n",
      "        zul    0.99502   0.99900   0.99701      1000\n",
      "        eng    0.99602   1.00000   0.99800      1000\n",
      "\n",
      "avg / total    0.99909   0.99909   0.99909     11000\n",
      "\n"
     ]
    }
   ],
   "source": [
    "print(metrics.classification_report(y_test, y_predicted,\n",
    "                                    target_names=language_code.keys(),\n",
    "                                     digits=5      ))"
   ]
  },
  {
   "cell_type": "markdown",
   "metadata": {},
   "source": [
    "## Confusion matrix"
   ]
  },
  {
   "cell_type": "code",
   "execution_count": 136,
   "metadata": {},
   "outputs": [],
   "source": [
    "cm = metrics.confusion_matrix(y_test, y_predicted)"
   ]
  },
  {
   "cell_type": "code",
   "execution_count": 137,
   "metadata": {},
   "outputs": [
    {
     "data": {
      "text/plain": [
       "array([[1000,    0,    0,    0,    0,    0,    0,    0,    0,    0,    0],\n",
       "       [   0,  997,    0,    0,    0,    0,    0,    0,    0,    2,    1],\n",
       "       [   0,    0, 1000,    0,    0,    0,    0,    0,    0,    0,    0],\n",
       "       [   0,    0,    0, 1000,    0,    0,    0,    0,    0,    0,    0],\n",
       "       [   0,    0,    0,    0,  998,    0,    0,    0,    0,    0,    2],\n",
       "       [   0,    0,    0,    0,    0,  999,    0,    0,    0,    0,    1],\n",
       "       [   0,    0,    0,    0,    0,    0, 1000,    0,    0,    0,    0],\n",
       "       [   0,    0,    0,    0,    0,    0,    0, 1000,    0,    0,    0],\n",
       "       [   0,    0,    0,    0,    0,    0,    0,    0,  997,    3,    0],\n",
       "       [   0,    1,    0,    0,    0,    0,    0,    0,    0,  999,    0],\n",
       "       [   0,    0,    0,    0,    0,    0,    0,    0,    0,    0, 1000]])"
      ]
     },
     "execution_count": 137,
     "metadata": {},
     "output_type": "execute_result"
    }
   ],
   "source": [
    "cm"
   ]
  }
 ],
 "metadata": {
  "kernelspec": {
   "display_name": "Python [conda env:py36]",
   "language": "python",
   "name": "conda-env-py36-py"
  },
  "language_info": {
   "codemirror_mode": {
    "name": "ipython",
    "version": 3
   },
   "file_extension": ".py",
   "mimetype": "text/x-python",
   "name": "python",
   "nbconvert_exporter": "python",
   "pygments_lexer": "ipython3",
   "version": "3.6.6"
  }
 },
 "nbformat": 4,
 "nbformat_minor": 2
}
